{
 "cells": [
  {
   "cell_type": "code",
   "execution_count": 1,
   "id": "5dd5ea60",
   "metadata": {
    "scrolled": false
   },
   "outputs": [
    {
     "ename": "NameError",
     "evalue": "name 'file_path_not_working' is not defined",
     "output_type": "error",
     "traceback": [
      "\u001b[0;31m---------------------------------------------------------------------------\u001b[0m",
      "\u001b[0;31mNameError\u001b[0m                                 Traceback (most recent call last)",
      "Cell \u001b[0;32mIn[1], line 27\u001b[0m\n\u001b[1;32m     24\u001b[0m     \u001b[38;5;28;01mreturn\u001b[39;00m df\n\u001b[1;32m     26\u001b[0m df_working \u001b[38;5;241m=\u001b[39m read_dataset(file_path_working, column_names)\n\u001b[0;32m---> 27\u001b[0m df_not_working \u001b[38;5;241m=\u001b[39m read_dataset(file_path_not_working, column_names)\n\u001b[1;32m     28\u001b[0m df_new \u001b[38;5;241m=\u001b[39m read_dataset(file_path_new, column_names)\n\u001b[1;32m     30\u001b[0m \u001b[38;5;66;03m# Print the first few rows\u001b[39;00m\n",
      "\u001b[0;31mNameError\u001b[0m: name 'file_path_not_working' is not defined"
     ]
    }
   ],
   "source": [
    "import pandas as pd\n",
    "import numpy as np\n",
    "from sklearn.preprocessing import StandardScaler\n",
    "import matplotlib.pyplot as plt\n",
    "\n",
    "# Load the datasets\n",
    "file_path_working = 'goal_ticks_working.csv'\n",
    "file_path_not_working = 'goal_ticks_not_working.csv'\n",
    "file_path_new = 'goal_ticks_new_kartID.csv'\n",
    "\n",
    "# Define column names based on the provided structure\n",
    "column_names = [\n",
    "    \"kart_ID\", \"ball_X\", \"ball_Z\", \"ball_aim_X\", \"ball_aim_Z\", \"previous_X\", \"previous_Z\",\n",
    "    \"dist_to_ball\", \"kart_X\", \"kart_Z\", \"vel_X\", \"vel_Z\", \"speed\", \"steer\", \"accel\", \"brake\", \"skid\", \"time\", \"goal\"\n",
    "]\n",
    "\n",
    "# Read the datasets with the expected number of columns\n",
    "def read_dataset(file_path, column_names):\n",
    "    df = pd.read_csv(file_path, header=None)\n",
    "    if df.shape[1] == len(column_names):\n",
    "        df.columns = column_names\n",
    "    else:\n",
    "        raise ValueError(f\"Dataset at {file_path} does not match the expected column structure.\")\n",
    "    return df\n",
    "\n",
    "df_working = read_dataset(file_path_working, column_names)\n",
    "df_not_working = read_dataset(file_path_not_working, column_names)\n",
    "df_new = read_dataset(file_path_new, column_names)\n",
    "\n",
    "# Print the first few rows\n",
    "print(\"Working dataset:\")\n",
    "print(df_working.head())\n",
    "\n",
    "print(\"Not working dataset:\")\n",
    "print(df_not_working.head())\n",
    "\n",
    "print(\"New dataset:\")\n",
    "print(df_new.head())\n",
    "\n",
    "# Compare feature statistics\n",
    "print(\"Working dataset statistics:\")\n",
    "print(df_working.describe())\n",
    "\n",
    "print(\"Not working dataset statistics:\")\n",
    "print(df_not_working.describe())\n",
    "\n",
    "print(\"New dataset statistics:\")\n",
    "print(df_new.describe())\n",
    "\n",
    "# Check normalization parameters\n",
    "scaler_working = StandardScaler()\n",
    "X_scaled_working = scaler_working.fit_transform(df_working.iloc[:, :-1])\n",
    "\n",
    "scaler_not_working = StandardScaler()\n",
    "X_scaled_not_working = scaler_not_working.fit_transform(df_not_working.iloc[:, :-1])\n",
    "\n",
    "# Normalize the new dataset using the working dataset scaler parameters\n",
    "X_scaled_new = scaler_working.transform(df_new.iloc[:, :-1])\n",
    "\n",
    "print(\"Scaler parameters for the working dataset:\")\n",
    "print(\"Mean:\", scaler_working.mean_)\n",
    "print(\"Scale:\", scaler_working.scale_)\n",
    "\n",
    "# Plot histograms for each feature in all datasets\n",
    "for i in range(df_working.shape[1] - 1):  # Exclude the target column\n",
    "    plt.figure(figsize=(15, 4))\n",
    "\n",
    "    plt.subplot(1, 3, 1)\n",
    "    plt.hist(df_working.iloc[:, i], bins=50, alpha=0.5, label='Working Dataset')\n",
    "    plt.title(f'Feature {i} - Working Dataset')\n",
    "\n",
    "    plt.subplot(1, 3, 2)\n",
    "    plt.hist(df_not_working.iloc[:, i], bins=50, alpha=0.5, label='Not Working Dataset')\n",
    "    plt.title(f'Feature {i} - Not Working Dataset')\n",
    "\n",
    "    plt.subplot(1, 3, 3)\n",
    "    plt.hist(df_new.iloc[:, i], bins=50, alpha=0.5, label='New Dataset')\n",
    "    plt.title(f'Feature {i} - New Dataset')\n",
    "\n",
    "    plt.show()\n"
   ]
  }
 ],
 "metadata": {
  "kernelspec": {
   "display_name": "Python 3 (ipykernel)",
   "language": "python",
   "name": "python3"
  },
  "language_info": {
   "codemirror_mode": {
    "name": "ipython",
    "version": 3
   },
   "file_extension": ".py",
   "mimetype": "text/x-python",
   "name": "python",
   "nbconvert_exporter": "python",
   "pygments_lexer": "ipython3",
   "version": "3.11.5"
  }
 },
 "nbformat": 4,
 "nbformat_minor": 5
}
